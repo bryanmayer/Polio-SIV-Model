{
 "cells": [
  {
   "cell_type": "code",
   "execution_count": 1,
   "metadata": {
    "collapsed": false
   },
   "outputs": [
    {
     "name": "stderr",
     "output_type": "stream",
     "text": [
      "Code/polio_model_class.py:47: FutureWarning: comparison to `None` will result in an elementwise object comparison in the future.\n",
      "  if dataIn != None:\n"
     ]
    }
   ],
   "source": [
    "'''\n",
    "Creator: Bryan Mayer\n",
    "This is a python notebook version of main.py: 2/15/2015\n",
    "Results published in http://www.ncbi.nlm.nih.gov/pubmed/23592542\n",
    "\n",
    "This main file sets up the model object\n",
    "calls the simulation\n",
    "automatically makes some plots\n",
    "'''\n",
    "\n",
    "import os\n",
    "import scipy.integrate as spi\n",
    "import numpy as np\n",
    "import pylab as pl\n",
    "import time\n",
    "import sys\n",
    "\n",
    "#to import model object from the Code directory\n",
    "sys.path.insert(0, 'Code/')\n",
    "from polio_model_class import polio_model_class\n",
    "\n",
    "storeOut = 0\n",
    "\n",
    "#Parameter file -- change parameters in here\n",
    "execfile('load_parameters.py')\n",
    "\n",
    "#things that probably shouldn't be changed without care\n",
    "execfile('Code/load_demographic.py')\n",
    "execfile('Code/load_waning.py')\n",
    "execfile('Code/polio_model.py')\n",
    "\n",
    "#load initial values\n",
    "INPUTload = np.loadtxt(open(\"Code/Input_data/example_initial.txt\",\"r\"))\n",
    "\n",
    "#initialize model object\n",
    "model = polio_model_class(n = n, m = m, dataIn = INPUTload)\n",
    "model.staticParms(c, roBetaRate, epsilon, kappa,\n",
    "                 ND, theta)\n",
    "model.vaccParms(vaccinate, immDate1, time2implement)"
   ]
  },
  {
   "cell_type": "code",
   "execution_count": 5,
   "metadata": {
    "collapsed": false
   },
   "outputs": [
    {
     "name": "stdout",
     "output_type": "stream",
     "text": [
      "The average age of first infection is 3.23 years\n"
     ]
    }
   ],
   "source": [
    "#the average age of infection before vaccination\n",
    "avgAgePreVacc = model.avgAge()\n",
    "print 'The average age of first infection is ' + str(np.round(avgAgePreVacc,2)) + ' years'"
   ]
  },
  {
   "cell_type": "markdown",
   "metadata": {},
   "source": [
    "# Model Simulation"
   ]
  },
  {
   "cell_type": "code",
   "execution_count": null,
   "metadata": {
    "collapsed": false
   },
   "outputs": [],
   "source": [
    "#for performance\n",
    "start = time.time()\n",
    "\n",
    "k = 0 #simulation index\n",
    "\n",
    "while k <= ND / t_end:\n",
    "    REStemp = spi.odeint(diff_eqs, model.INPUT, t_range)\n",
    "    ### age() function stores the results, ages compartments by pulse and updates INPUT ###\n",
    "    model.age(REStemp = REStemp, k = k, t_end = t_end, t_range = t_range)\n",
    "    k += 1\n",
    "\n",
    "end = time.time()\n",
    "\n",
    "# this stores the end of the results as the initial value for future simulations\n",
    "# this is useful if you want to have the population at steady state before introducing vaccination\n",
    "if storeOut == 1:\n",
    "    np.savetxt(\"data/new_initial_values.txt\", model.INPUT)\n",
    "\n",
    "#model simulation length\n",
    "print 'model took ' + end - start + ' time units'"
   ]
  },
  {
   "cell_type": "markdown",
   "metadata": {},
   "source": [
    "# Simulation Results"
   ]
  },
  {
   "cell_type": "code",
   "execution_count": null,
   "metadata": {
    "collapsed": false
   },
   "outputs": [],
   "source": [
    "#the average age of infection after simulation ends\n",
    "avgAgePostVacc = model.avgAge()\n",
    "print avgAgePostVacc"
   ]
  }
 ],
 "metadata": {
  "kernelspec": {
   "display_name": "Python 2",
   "language": "python",
   "name": "python2"
  },
  "language_info": {
   "codemirror_mode": {
    "name": "ipython",
    "version": 2
   },
   "file_extension": ".py",
   "mimetype": "text/x-python",
   "name": "python",
   "nbconvert_exporter": "python",
   "pygments_lexer": "ipython2",
   "version": "2.7.9"
  }
 },
 "nbformat": 4,
 "nbformat_minor": 0
}
